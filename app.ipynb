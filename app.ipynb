{
 "cells": [
  {
   "cell_type": "markdown",
   "id": "33a33d77",
   "metadata": {},
   "source": [
    "# Cloud9 Demo"
   ]
  },
  {
   "cell_type": "markdown",
   "id": "2125d104",
   "metadata": {},
   "source": [
    "I'm going to use this as a demo for proof of concept web apps..."
   ]
  }
 ],
 "metadata": {
  "kernelspec": {
   "display_name": "Python 3 (ipykernel)",
   "language": "python",
   "name": "python3"
  },
  "language_info": {
   "codemirror_mode": {
    "name": "ipython",
    "version": 3
   },
   "file_extension": ".py",
   "mimetype": "text/x-python",
   "name": "python",
   "nbconvert_exporter": "python",
   "pygments_lexer": "ipython3",
   "version": "3.7.13"
  }
 },
 "nbformat": 4,
 "nbformat_minor": 5
}
